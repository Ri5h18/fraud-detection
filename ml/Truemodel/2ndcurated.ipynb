{
 "cells": [
  {
   "cell_type": "code",
   "execution_count": 1,
   "id": "9f7562a4",
   "metadata": {},
   "outputs": [
    {
     "name": "stdout",
     "output_type": "stream",
     "text": [
      "Confusion Matrix:\n",
      "[[1784    8]\n",
      " [ 113   95]]\n",
      "\n",
      "Classification Report:\n",
      "              precision    recall  f1-score   support\n",
      "\n",
      "           0     0.9404    0.9955    0.9672      1792\n",
      "           1     0.9223    0.4567    0.6109       208\n",
      "\n",
      "    accuracy                         0.9395      2000\n",
      "   macro avg     0.9314    0.7261    0.7891      2000\n",
      "weighted avg     0.9385    0.9395    0.9301      2000\n",
      "\n"
     ]
    }
   ],
   "source": [
    "import numpy as np\n",
    "import pandas as pd\n",
    "from sklearn.datasets import make_classification\n",
    "from sklearn.model_selection import train_test_split\n",
    "from sklearn.linear_model import LogisticRegression\n",
    "from sklearn.metrics import classification_report, confusion_matrix\n",
    "\n",
    "# 1. Create synthetic fraud detection dataset\n",
    "X, y = make_classification(\n",
    "    n_samples=10000,\n",
    "    n_features=10,\n",
    "    n_informative=6,\n",
    "    n_redundant=2,\n",
    "    n_classes=2,\n",
    "    weights=[0.9, 0.1],  # Imbalanced: 5% fraud\n",
    "    random_state=42\n",
    ")\n",
    "\n",
    "# Optional: create a DataFrame for easier handling\n",
    "feature_names = [f'feature_{i}' for i in range(X.shape[1])]\n",
    "df = pd.DataFrame(X, columns=feature_names)\n",
    "df['is_fraud'] = y\n",
    "\n",
    "# 2. Split into train and test sets\n",
    "X_train, X_test, y_train, y_test = train_test_split(\n",
    "    df[feature_names], df['is_fraud'], test_size=0.2, random_state=42, stratify=df['is_fraud']\n",
    ")\n",
    "\n",
    "# 3. Train a logistic regression model\n",
    "model = LogisticRegression(solver='liblinear')\n",
    "model.fit(X_train, y_train)\n",
    "\n",
    "# 4. Evaluate the model\n",
    "y_pred = model.predict(X_test)\n",
    "print(\"Confusion Matrix:\")\n",
    "print(confusion_matrix(y_test, y_pred))\n",
    "print(\"\\nClassification Report:\")\n",
    "print(classification_report(y_test, y_pred, digits=4))"
   ]
  },
  {
   "cell_type": "code",
   "execution_count": 2,
   "id": "04daf3bc",
   "metadata": {},
   "outputs": [
    {
     "name": "stdout",
     "output_type": "stream",
     "text": [
      "Model saved as fraud_model.joblib\n"
     ]
    }
   ],
   "source": [
    "# ...existing code...\n",
    "\n",
    "import joblib\n",
    "\n",
    "# ...existing code...\n",
    "\n",
    "# Save the trained model\n",
    "joblib.dump(model, 'fraud_model.joblib')\n",
    "print(\"Model saved as fraud_model.joblib\")\n",
    "# ...existing code..."
   ]
  },
  {
   "cell_type": "code",
   "execution_count": 3,
   "id": "0926e7ba",
   "metadata": {},
   "outputs": [
    {
     "name": "stdout",
     "output_type": "stream",
     "text": [
      " * Serving Flask app '__main__'\n",
      " * Debug mode: on\n"
     ]
    },
    {
     "name": "stderr",
     "output_type": "stream",
     "text": [
      "WARNING: This is a development server. Do not use it in a production deployment. Use a production WSGI server instead.\n",
      " * Running on http://127.0.0.1:5000\n",
      "Press CTRL+C to quit\n",
      " * Restarting with stat\n"
     ]
    },
    {
     "ename": "SystemExit",
     "evalue": "1",
     "output_type": "error",
     "traceback": [
      "An exception has occurred, use %tb to see the full traceback.\n",
      "\u001b[1;31mSystemExit\u001b[0m\u001b[1;31m:\u001b[0m 1\n"
     ]
    },
    {
     "name": "stderr",
     "output_type": "stream",
     "text": [
      "C:\\Users\\RISHI RAMAN\\AppData\\Roaming\\Python\\Python312\\site-packages\\IPython\\core\\interactiveshell.py:3558: UserWarning: To exit: use 'exit', 'quit', or Ctrl-D.\n",
      "  warn(\"To exit: use 'exit', 'quit', or Ctrl-D.\", stacklevel=1)\n"
     ]
    }
   ],
   "source": [
    "from flask import Flask, request, jsonify\n",
    "import joblib\n",
    "import numpy as np\n",
    "\n",
    "app = Flask(__name__)\n",
    "model = joblib.load('fraud_model.joblib')\n",
    "\n",
    "@app.route('/predict', methods=['POST'])\n",
    "def predict():\n",
    "    data = request.json\n",
    "    features = np.array(data['features']).reshape(1, -1)\n",
    "    prediction = int(model.predict(features)[0])\n",
    "    return jsonify({'is_fraud': prediction})\n",
    "\n",
    "if __name__ == '__main__':\n",
    "    app.run(debug=True)"
   ]
  },
  {
   "cell_type": "code",
   "execution_count": 8,
   "id": "d9ee45f8",
   "metadata": {},
   "outputs": [
    {
     "ename": "SyntaxError",
     "evalue": "invalid syntax (2790965141.py, line 1)",
     "output_type": "error",
     "traceback": [
      "\u001b[1;36m  Cell \u001b[1;32mIn[8], line 1\u001b[1;36m\u001b[0m\n\u001b[1;33m    // SPDX-License-Identifier: MIT\u001b[0m\n\u001b[1;37m    ^\u001b[0m\n\u001b[1;31mSyntaxError\u001b[0m\u001b[1;31m:\u001b[0m invalid syntax\n"
     ]
    }
   ],
   "source": [
    "// SPDX-License-Identifier: MIT\n",
    "pragma solidity ^0.8.0;\n",
    "\n",
    "contract TransactionStorage {\n",
    "    struct Transaction {\n",
    "        address user;\n",
    "        uint256 amount;\n",
    "        bool isFraud;\n",
    "    }\n",
    "\n",
    "    Transaction[] public transactions;\n",
    "\n",
    "    event TransactionSaved(address indexed user, uint256 amount, bool isFraud);\n",
    "\n",
    "    function saveTransaction(uint256 amount, bool isFraud) public {\n",
    "        transactions.push(Transaction(msg.sender, amount, isFraud));\n",
    "        emit TransactionSaved(msg.sender, amount, isFraud);\n",
    "    }\n",
    "\n",
    "    function getTransaction(uint index) public view returns (address, uint256, bool) {\n",
    "        Transaction memory txn = transactions[index];\n",
    "        return (txn.user, txn.amount, txn.isFraud);\n",
    "    }\n",
    "\n",
    "    function getTransactionCount() public view returns (uint) {\n",
    "        return transactions.length;\n",
    "    }\n",
    "}"
   ]
  },
  {
   "cell_type": "code",
   "execution_count": null,
   "id": "d23dbedc",
   "metadata": {},
   "outputs": [],
   "source": []
  }
 ],
 "metadata": {
  "kernelspec": {
   "display_name": "Python 3",
   "language": "python",
   "name": "python3"
  },
  "language_info": {
   "codemirror_mode": {
    "name": "ipython",
    "version": 3
   },
   "file_extension": ".py",
   "mimetype": "text/x-python",
   "name": "python",
   "nbconvert_exporter": "python",
   "pygments_lexer": "ipython3",
   "version": "3.12.0"
  }
 },
 "nbformat": 4,
 "nbformat_minor": 5
}
