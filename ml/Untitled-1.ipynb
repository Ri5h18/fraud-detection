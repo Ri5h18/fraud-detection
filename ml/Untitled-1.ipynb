{
 "cells": [
  {
   "cell_type": "code",
   "execution_count": 3,
   "id": "350eb7a1",
   "metadata": {},
   "outputs": [
    {
     "name": "stdout",
     "output_type": "stream",
     "text": [
      "A\n"
     ]
    }
   ],
   "source": [
    "print('A')"
   ]
  },
  {
   "cell_type": "code",
   "execution_count": null,
   "id": "b3941383",
   "metadata": {},
   "outputs": [
    {
     "name": "stdout",
     "output_type": "stream",
     "text": [
      "   TRANSACTION_ID         TX_DATETIME CUSTOMER_ID TERMINAL_ID  TX_AMOUNT  \\\n",
      "0               0 2018-04-01 00:00:31         596        3156      57.16   \n",
      "1               1 2018-04-01 00:02:10        4961        3412      81.51   \n",
      "2               2 2018-04-01 00:07:56           2        1365     146.00   \n",
      "3               3 2018-04-01 00:09:29        4128        8737      64.49   \n",
      "4               4 2018-04-01 00:10:34         927        9906      50.99   \n",
      "\n",
      "  TX_TIME_SECONDS TX_TIME_DAYS  TX_FRAUD  TX_FRAUD_SCENARIO  \n",
      "0              31            0         0                  0  \n",
      "1             130            0         0                  0  \n",
      "2             476            0         0                  0  \n",
      "3             569            0         0                  0  \n",
      "4             634            0         0                  0  \n",
      "Shape of combined DataFrame: (1754155, 9)\n"
     ]
    }
   ],
   "source": [
    "import pandas as pd\n",
    "import os\n",
    "\n",
    "folder_path = r'C:\\Users\\RISHI RAMAN\\Desktop\\vis\\unifedmentor\\Projects-20240722T093004Z-001\\fraud_detection\\data'\n",
    "\n",
    "dfs = []  \n",
    "\n",
    "for file in os.listdir(folder_path):\n",
    "    if file.endswith('.pkl'):\n",
    "        full_path = os.path.join(folder_path, file)\n",
    "        df = pd.read_pickle(full_path) \n",
    "        dfs.append(df)\n",
    "\n",
    "combined_df = pd.concat(dfs, ignore_index=True)\n",
    "\n",
    "print(combined_df.head())\n",
    "print(\"Shape of combined DataFrame:\", combined_df.shape)\n"
   ]
  },
  {
   "cell_type": "code",
   "execution_count": 62,
   "id": "48148d33",
   "metadata": {},
   "outputs": [],
   "source": [
    "X['TX_TIME_SECONDS'] = pd.to_numeric(X['TX_TIME_SECONDS'], errors='coerce')\n",
    "X['TX_TIME_DAYS'] = pd.to_numeric(X['TX_TIME_DAYS'], errors='coerce')\n",
    "X['TX_TIME_SECONDS'] = X['TX_TIME_SECONDS'].astype('category')\n",
    "X['TX_TIME_DAYS'] = X['TX_TIME_DAYS'].astype('category')\n",
    "\n"
   ]
  },
  {
   "cell_type": "markdown",
   "id": "915aa856",
   "metadata": {},
   "source": [
    "## feature enginerring + weight"
   ]
  },
  {
   "cell_type": "code",
   "execution_count": 75,
   "id": "2682fa58",
   "metadata": {},
   "outputs": [],
   "source": [
    "combined_df['TX_DATETIME'] = pd.to_datetime(combined_df['TX_DATETIME'])\n",
    "\n",
    "combined_df['HOUR'] = combined_df['TX_DATETIME'].dt.hour\n",
    "combined_df['DAY_OF_WEEK'] = combined_df['TX_DATETIME'].dt.dayofweek\n",
    "combined_df['WEEKEND'] = combined_df['DAY_OF_WEEK'].isin([5, 6]).astype(int)\n"
   ]
  },
  {
   "cell_type": "code",
   "execution_count": 76,
   "id": "581de1bc",
   "metadata": {},
   "outputs": [],
   "source": [
    "# Number of transactions by customer and terminal (helps identify high activity)\n",
    "combined_df['CUSTOMER_TX_COUNT'] = combined_df.groupby('CUSTOMER_ID')['CUSTOMER_ID'].transform('count')\n",
    "combined_df['TERMINAL_TX_COUNT'] = combined_df.groupby('TERMINAL_ID')['TERMINAL_ID'].transform('count')\n"
   ]
  },
  {
   "cell_type": "code",
   "execution_count": 77,
   "id": "b82bf84b",
   "metadata": {},
   "outputs": [],
   "source": [
    "# Deviation from customer's typical behavior\n",
    "customer_avg = combined_df.groupby('CUSTOMER_ID')['TX_AMOUNT'].transform('mean')\n",
    "combined_df['TX_AMOUNT_DEV'] = combined_df['TX_AMOUNT'] / (customer_avg + 1e-6)\n"
   ]
  },
  {
   "cell_type": "code",
   "execution_count": 78,
   "id": "b027b056",
   "metadata": {},
   "outputs": [],
   "source": [
    "features = [\n",
    "    'TX_AMOUNT',\n",
    "    'TX_TIME_SECONDS',\n",
    "    'TX_TIME_DAYS',\n",
    "    'CUSTOMER_TX_COUNT',\n",
    "    'TERMINAL_TX_COUNT',\n",
    "    'TX_AMOUNT_DEV',\n",
    "    'HOUR',\n",
    "    'DAY_OF_WEEK',\n",
    "    'WEEKEND'\n",
    "]\n",
    "target = 'TX_FRAUD'\n"
   ]
  },
  {
   "cell_type": "code",
   "execution_count": 79,
   "id": "b8bfca09",
   "metadata": {},
   "outputs": [],
   "source": [
    "import pandas as pd\n",
    "import xgboost as xgb\n",
    "from sklearn.model_selection import train_test_split\n",
    "from sklearn.metrics import classification_report, confusion_matrix, roc_auc_score\n",
    "from sklearn.preprocessing import StandardScaler"
   ]
  },
  {
   "cell_type": "code",
   "execution_count": 45,
   "id": "9c65e46b",
   "metadata": {},
   "outputs": [
    {
     "name": "stdout",
     "output_type": "stream",
     "text": [
      "[[-0.05348308  1.34324564  1.34404434 ... -0.09909938 -1.50295149\n",
      "  -0.6390031 ]\n",
      " [-0.85802355  0.0345054   0.03820747 ... -0.89012331 -1.00486345\n",
      "  -0.6390031 ]\n",
      " [-0.23723615 -1.36577561 -1.36225527 ... -0.89012331  0.48940066\n",
      "  -0.6390031 ]\n",
      " ...\n",
      " [ 0.99606148 -1.3049474  -1.30547975 ...  0.09865661 -1.50295149\n",
      "  -0.6390031 ]\n",
      " [-0.92873419 -0.05540462 -0.05641839 ...  0.29641259 -0.00868738\n",
      "  -0.6390031 ]\n",
      " [ 0.35422643 -0.77734804 -0.77557493 ... -0.49461135 -1.50295149\n",
      "  -0.6390031 ]]\n",
      "<class 'pandas.core.frame.DataFrame'>\n",
      "Index: 1403324 entries, 1556862 to 483524\n",
      "Data columns (total 9 columns):\n",
      " #   Column             Non-Null Count    Dtype  \n",
      "---  ------             --------------    -----  \n",
      " 0   TX_AMOUNT          1403324 non-null  float64\n",
      " 1   TX_TIME_SECONDS    1403324 non-null  int64  \n",
      " 2   TX_TIME_DAYS       1403324 non-null  int64  \n",
      " 3   CUSTOMER_TX_COUNT  1403324 non-null  int64  \n",
      " 4   TERMINAL_TX_COUNT  1403324 non-null  int64  \n",
      " 5   TX_AMOUNT_DEV      1403324 non-null  float64\n",
      " 6   HOUR               1403324 non-null  int32  \n",
      " 7   DAY_OF_WEEK        1403324 non-null  int32  \n",
      " 8   WEEKEND            1403324 non-null  int32  \n",
      "dtypes: float64(2), int32(3), int64(4)\n",
      "memory usage: 91.0 MB\n"
     ]
    },
    {
     "name": "stderr",
     "output_type": "stream",
     "text": [
      "c:\\Users\\RISHI RAMAN\\AppData\\Local\\Programs\\Python\\Python312\\Lib\\site-packages\\xgboost\\training.py:183: UserWarning: [16:45:08] WARNING: C:\\actions-runner\\_work\\xgboost\\xgboost\\src\\learner.cc:738: \n",
      "Parameters: { \"use_label_encoder\" } are not used.\n",
      "\n",
      "  bst.update(dtrain, iteration=i, fobj=obj)\n"
     ]
    },
    {
     "name": "stdout",
     "output_type": "stream",
     "text": [
      "Confusion Matrix:\n",
      " [[244719 103176]\n",
      " [   622   2314]]\n",
      "\n",
      "Classification Report:\n",
      "               precision    recall  f1-score   support\n",
      "\n",
      "           0     0.9975    0.7034    0.8250    347895\n",
      "           1     0.0219    0.7881    0.0427      2936\n",
      "\n",
      "    accuracy                         0.7041    350831\n",
      "   macro avg     0.5097    0.7458    0.4339    350831\n",
      "weighted avg     0.9893    0.7041    0.8185    350831\n",
      "\n",
      "ROC AUC Score: 0.8396\n"
     ]
    }
   ],
   "source": [
    "X = combined_df[features]\n",
    "y = combined_df[target]\n",
    "\n",
    "# Train-test split, stratify to keep fraud distribution consistent\n",
    "X_train, X_test, y_train, y_test = train_test_split(\n",
    "    X, y, test_size=0.2, stratify=y, random_state=42\n",
    ")\n",
    "\n",
    "# Optional: scaling features (XGBoost doesn't require it, but can help)\n",
    "scaler = StandardScaler()\n",
    "X_train_scaled = scaler.fit_transform(X_train)\n",
    "X_test_scaled = scaler.transform(X_test)\n",
    "print(X_train_scaled)\n",
    "\n",
    "# Define XGBoost model with imbalance-aware parameters\n",
    "model = xgb.XGBClassifier(\n",
    "    objective='binary:logistic',\n",
    "    scale_pos_weight=200,  # handle class imbalance\n",
    "    eval_metric='auc',\n",
    "    use_label_encoder=False,\n",
    "    random_state=42,\n",
    "    n_jobs=-1\n",
    ")\n",
    "X_train.info()\n",
    "# Train model\n",
    "model.fit(X_train, y_train)\n",
    "\n",
    "# Predict on test data\n",
    "y_pred = model.predict(X_test)\n",
    "y_proba = model.predict_proba(X_test)[:, 1]\n",
    "\n",
    "# Evaluation\n",
    "print(\"Confusion Matrix:\\n\", confusion_matrix(y_test, y_pred))\n",
    "print(\"\\nClassification Report:\\n\", classification_report(y_test, y_pred, digits=4))\n",
    "print(f\"ROC AUC Score: {roc_auc_score(y_test, y_proba):.4f}\")"
   ]
  },
  {
   "cell_type": "code",
   "execution_count": 81,
   "id": "6910fe22",
   "metadata": {},
   "outputs": [
    {
     "name": "stderr",
     "output_type": "stream",
     "text": [
      "c:\\Users\\RISHI RAMAN\\AppData\\Local\\Programs\\Python\\Python312\\Lib\\site-packages\\xgboost\\training.py:183: UserWarning: [17:31:06] WARNING: C:\\actions-runner\\_work\\xgboost\\xgboost\\src\\learner.cc:738: \n",
      "Parameters: { \"use_label_encoder\" } are not used.\n",
      "\n",
      "  bst.update(dtrain, iteration=i, fobj=obj)\n"
     ]
    },
    {
     "name": "stdout",
     "output_type": "stream",
     "text": [
      "Confusion Matrix:\n",
      " [[347612    283]\n",
      " [  2215    721]]\n",
      "\n",
      "Classification Report:\n",
      "               precision    recall  f1-score   support\n",
      "\n",
      "           0     0.9937    0.9992    0.9964    347895\n",
      "           1     0.7181    0.2456    0.3660      2936\n",
      "\n",
      "    accuracy                         0.9929    350831\n",
      "   macro avg     0.8559    0.6224    0.6812    350831\n",
      "weighted avg     0.9914    0.9929    0.9911    350831\n",
      "\n",
      "F1 Score: 0.3660\n",
      "ROC AUC Score: 0.7970\n"
     ]
    }
   ],
   "source": [
    "import pandas as pd\n",
    "import xgboost as xgb\n",
    "from sklearn.model_selection import train_test_split\n",
    "from sklearn.metrics import confusion_matrix, classification_report, roc_auc_score\n",
    "\n",
    "# 1. Convert problematic columns before selecting features\n",
    "combined_df[\"TX_TIME_SECONDS\"] = pd.to_numeric(combined_df[\"TX_TIME_SECONDS\"], errors='coerce')\n",
    "combined_df[\"TX_TIME_DAYS\"] = pd.to_numeric(combined_df[\"TX_TIME_DAYS\"], errors='coerce')\n",
    "\n",
    "# 2. Select features and target\n",
    "X = combined_df[features]\n",
    "y = combined_df[target]\n",
    "\n",
    "# 3. Handle any missing values caused by coercion\n",
    "X = X.fillna(0)\n",
    "\n",
    "# 4. Train/test split\n",
    "X_train, X_test, y_train, y_test = train_test_split(\n",
    "    X, y, test_size=0.2, stratify=y, random_state=42\n",
    ")\n",
    "\n",
    "# 5. Define the XGBoost model\n",
    "model = xgb.XGBClassifier(\n",
    "    objective='binary:logistic',\n",
    "    eval_metric='logloss',\n",
    "    use_label_encoder=False,\n",
    "    random_state=42,\n",
    "    n_jobs=-1\n",
    ")\n",
    "\n",
    "# 6. Train the model\n",
    "model.fit(X_train, y_train)\n",
    "\n",
    "# 7. Predict\n",
    "y_pred = model.predict(X_test)\n",
    "y_proba = model.predict_proba(X_test)[:, 1]\n",
    "\n",
    "# 8. Evaluate\n",
    "print(\"Confusion Matrix:\\n\", confusion_matrix(y_test, y_pred))\n",
    "print(\"\\nClassification Report:\\n\", classification_report(y_test, y_pred, digits=4))\n",
    "print(f\"F1 Score: {f1_score(y_test, y_pred):.4f}\")\n",
    "print(f\"ROC AUC Score: {roc_auc_score(y_test, y_proba):.4f}\")\n"
   ]
  },
  {
   "cell_type": "code",
   "execution_count": 71,
   "id": "b7698439",
   "metadata": {},
   "outputs": [
    {
     "data": {
      "image/png": "[encoded data removed]",
      "text/plain": [
       "<Figure size 600x500 with 2 Axes>"
      ]
     },
     "metadata": {},
     "output_type": "display_data"
    }
   ],
   "source": [
    "import matplotlib.pyplot as plt\n",
    "import seaborn as sns\n",
    "from sklearn.metrics import confusion_matrix\n",
    "\n",
    "# Predict again if needed\n",
    "y_pred = model.predict(X_test)\n",
    "\n",
    "# Create confusion matrix\n",
    "cm = confusion_matrix(y_test, y_pred)\n",
    "labels = ['Not Fraud (0)', 'Fraud (1)']\n",
    "\n",
    "# Plot\n",
    "plt.figure(figsize=(6, 5))\n",
    "sns.heatmap(cm, annot=True, fmt='d', cmap='Blues', xticklabels=labels, yticklabels=labels)\n",
    "plt.xlabel('Predicted Label')\n",
    "plt.ylabel('True Label')\n",
    "plt.title('Confusion Matrix - XGBoost')\n",
    "plt.tight_layout()\n",
    "plt.show()\n"
   ]
  },
  {
   "cell_type": "code",
   "execution_count": 41,
   "id": "5b63d9be",
   "metadata": {},
   "outputs": [
    {
     "name": "stderr",
     "output_type": "stream",
     "text": [
      "c:\\Users\\RISHI RAMAN\\AppData\\Local\\Programs\\Python\\Python312\\Lib\\site-packages\\xgboost\\training.py:183: UserWarning: [16:44:12] WARNING: C:\\actions-runner\\_work\\xgboost\\xgboost\\src\\learner.cc:738: \n",
      "Parameters: { \"use_label_encoder\" } are not used.\n",
      "\n",
      "  bst.update(dtrain, iteration=i, fobj=obj)\n"
     ]
    },
    {
     "name": "stdout",
     "output_type": "stream",
     "text": [
      "Confusion Matrix:\n",
      "[[347536    359]\n",
      " [  2367    569]]\n",
      "\n",
      "Classification Report:\n",
      "              precision    recall  f1-score   support\n",
      "\n",
      "           0     0.9932    0.9990    0.9961    347895\n",
      "           1     0.6131    0.1938    0.2945      2936\n",
      "\n",
      "    accuracy                         0.9922    350831\n",
      "   macro avg     0.8032    0.5964    0.6453    350831\n",
      "weighted avg     0.9901    0.9922    0.9902    350831\n",
      "\n",
      "ROC AUC Score: 0.7756\n"
     ]
    }
   ],
   "source": [
    "from sklearn.model_selection import train_test_split\n",
    "from sklearn.preprocessing import StandardScaler\n",
    "from sklearn.metrics import classification_report, confusion_matrix, roc_auc_score\n",
    "import xgboost as xgb\n",
    "\n",
    "# 1. Extract features and target\n",
    "X = combined_df[features]\n",
    "y = combined_df[target]\n",
    "\n",
    "# 2. Train-test split with stratification\n",
    "X_train, X_test, y_train, y_test = train_test_split(\n",
    "    X, y, stratify=y, test_size=0.2, random_state=42\n",
    ")\n",
    "\n",
    "# 3. Scale features\n",
    "scaler = StandardScaler()\n",
    "X_train_scaled = scaler.fit_transform(X_train)\n",
    "X_test_scaled = scaler.transform(X_test)\n",
    "\n",
    "# 4. Handle imbalance with scale_pos_weight (no resampling)\n",
    "scale_pos_weight = (y_train == 0).sum() / (y_train == 1).sum()\n",
    "\n",
    "# 5. Train XGBoost\n",
    "clf = xgb.XGBClassifier(\n",
    "    objective='binary:logistic',\n",
    "    # scale_pos_weight=scale_pos_weight,\n",
    "    eval_metric='auc',\n",
    "    use_label_encoder=False,\n",
    "    random_state=42,\n",
    "    n_jobs=-1\n",
    ")\n",
    "\n",
    "clf.fit(X_train_scaled, y_train)\n",
    "\n",
    "# 6. Evaluate on test set\n",
    "y_pred = clf.predict(X_test_scaled)\n",
    "y_proba = clf.predict_proba(X_test_scaled)[:, 1]\n",
    "\n",
    "print(\"Confusion Matrix:\")\n",
    "print(confusion_matrix(y_test, y_pred))\n",
    "\n",
    "print(\"\\nClassification Report:\")\n",
    "print(classification_report(y_test, y_pred, digits=4))\n",
    "\n",
    "print(f\"ROC AUC Score: {roc_auc_score(y_test, y_proba):.4f}\")\n"
   ]
  },
  {
   "cell_type": "markdown",
   "id": "a0d80eaa",
   "metadata": {},
   "source": [
    "## sampling methods"
   ]
  }
 ],
 "metadata": {
  "kernelspec": {
   "display_name": "Python 3",
   "language": "python",
   "name": "python3"
  },
  "language_info": {
   "codemirror_mode": {
    "name": "ipython",
    "version": 3
   },
   "file_extension": ".py",
   "mimetype": "text/x-python",
   "name": "python",
   "nbconvert_exporter": "python",
   "pygments_lexer": "ipython3",
   "version": "3.12.0"
  }
 },
 "nbformat": 4,
 "nbformat_minor": 5
}
