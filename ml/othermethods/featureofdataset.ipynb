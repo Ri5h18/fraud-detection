{
 "cells": [
  {
   "cell_type": "markdown",
   "id": "d443dd88",
   "metadata": {},
   "source": [
    "## import"
   ]
  },
  {
   "cell_type": "code",
   "execution_count": 1,
   "id": "864558ad",
   "metadata": {},
   "outputs": [],
   "source": [
    "import pandas as pd\n",
    "import xgboost as xgb\n",
    "from sklearn.model_selection import train_test_split\n",
    "from sklearn.metrics import classification_report, confusion_matrix, recall_score, f1_score\n",
    "import seaborn as sns\n",
    "import matplotlib.pyplot as plt\n",
    "df = pd.read_csv(r'C:\\Users\\RISHI RAMAN\\Desktop\\ml\\combined_fraud_data.csv')"
   ]
  },
  {
   "cell_type": "code",
   "execution_count": 2,
   "id": "3004e2c2",
   "metadata": {},
   "outputs": [
    {
     "name": "stdout",
     "output_type": "stream",
     "text": [
      "Shape of combined DataFrame: (1754155, 9)\n",
      "Dataset Shape: (1754155, 9)\n",
      "\n",
      "Dataset Info:\n",
      "<class 'pandas.core.frame.DataFrame'>\n",
      "RangeIndex: 1754155 entries, 0 to 1754154\n",
      "Data columns (total 9 columns):\n",
      " #   Column             Dtype  \n",
      "---  ------             -----  \n",
      " 0   TRANSACTION_ID     int64  \n",
      " 1   TX_DATETIME        object \n",
      " 2   CUSTOMER_ID        int64  \n",
      " 3   TERMINAL_ID        int64  \n",
      " 4   TX_AMOUNT          float64\n",
      " 5   TX_TIME_SECONDS    int64  \n",
      " 6   TX_TIME_DAYS       int64  \n",
      " 7   TX_FRAUD           int64  \n",
      " 8   TX_FRAUD_SCENARIO  int64  \n",
      "dtypes: float64(1), int64(7), object(1)\n",
      "memory usage: 120.4+ MB\n",
      "None\n",
      "\n",
      "Fraud Distribution:\n",
      "TX_FRAUD\n",
      "0    1739474\n",
      "1      14681\n",
      "Name: count, dtype: int64\n",
      "\n",
      "Fraud Rate: 0.84%\n"
     ]
    }
   ],
   "source": [
    "print(\"Shape of combined DataFrame:\", df.shape)\n",
    "print(\"Dataset Shape:\", df.shape)\n",
    "print(\"\\nDataset Info:\")\n",
    "print(df.info())\n",
    "print(\"\\nFraud Distribution:\")\n",
    "print(df['TX_FRAUD'].value_counts())\n",
    "print(f\"\\nFraud Rate: {df['TX_FRAUD'].mean()*100:.2f}%\")"
   ]
  },
  {
   "cell_type": "markdown",
   "id": "a15f4e3a",
   "metadata": {},
   "source": [
    "## features"
   ]
  },
  {
   "cell_type": "markdown",
   "id": "0eac2e0d",
   "metadata": {},
   "source": [
    "## ENN"
   ]
  }
 ],
 "metadata": {
  "kernelspec": {
   "display_name": "Python 3",
   "language": "python",
   "name": "python3"
  },
  "language_info": {
   "codemirror_mode": {
    "name": "ipython",
    "version": 3
   },
   "file_extension": ".py",
   "mimetype": "text/x-python",
   "name": "python",
   "nbconvert_exporter": "python",
   "pygments_lexer": "ipython3",
   "version": "3.12.0"
  }
 },
 "nbformat": 4,
 "nbformat_minor": 5
}
